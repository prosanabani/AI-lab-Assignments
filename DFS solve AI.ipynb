{
 "cells": [
  {
   "cell_type": "code",
   "execution_count": 51,
   "metadata": {},
   "outputs": [
    {
     "name": "stdout",
     "output_type": "stream",
     "text": [
      "[[0, 1, 3, 2, 4]]\n"
     ]
    }
   ],
   "source": [
    "graph = {\n",
    "  0: [1, 2],\n",
    "  1: [3],\n",
    "  2: [4],\n",
    "  3: [],\n",
    "  4: []\n",
    "}\n",
    "\n",
    "def dfs(graph, node, visited, component):\n",
    "# component is the list of nodes in the current connected component.\n",
    "\n",
    "\n",
    "    if node in visited:\n",
    "        return\n",
    "\n",
    "    visited.add(node)\n",
    "    component.append(node)\n",
    "\n",
    "    for neighbor in graph[node]:\n",
    "        dfs(graph, neighbor, visited, component)\n",
    "\n",
    "\n",
    "def find_connected_components(graph):\n",
    " \n",
    "\n",
    "    visited = set()\n",
    "    connected_components = []\n",
    "\n",
    "    for node in graph: \n",
    "        if node not in visited:\n",
    "            component = []\n",
    "            dfs(graph, node, visited, component)\n",
    "            connected_components.append(component)\n",
    "\n",
    "    return connected_components\n",
    "\n",
    "\n",
    "connected_components = find_connected_components(graph)\n",
    "\n",
    "print(connected_components)\n"
   ]
  },
  {
   "cell_type": "code",
   "execution_count": null,
   "metadata": {},
   "outputs": [],
   "source": []
  },
  {
   "cell_type": "code",
   "execution_count": null,
   "metadata": {},
   "outputs": [],
   "source": []
  }
 ],
 "metadata": {
  "kernelspec": {
   "display_name": "Python 3",
   "language": "python",
   "name": "python3"
  },
  "language_info": {
   "codemirror_mode": {
    "name": "ipython",
    "version": 3
   },
   "file_extension": ".py",
   "mimetype": "text/x-python",
   "name": "python",
   "nbconvert_exporter": "python",
   "pygments_lexer": "ipython3",
   "version": "3.8.5"
  }
 },
 "nbformat": 4,
 "nbformat_minor": 4
}
