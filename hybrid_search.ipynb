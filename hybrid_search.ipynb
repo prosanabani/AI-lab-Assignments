{
 "cells": [
  {
   "cell_type": "code",
   "execution_count": null,
   "metadata": {},
   "outputs": [],
   "source": [
    "# 4.Assignment Four (Hybrid search )"
   ]
  },
  {
   "cell_type": "code",
   "execution_count": 8,
   "metadata": {},
   "outputs": [
    {
     "name": "stdout",
     "output_type": "stream",
     "text": [
      "A B C "
     ]
    }
   ],
   "source": [
    "graph = {\n",
    "    'A' : ['B','C'],\n",
    "    'B' : ['D', 'E'],\n",
    "    'C' : ['F'],\n",
    "    'D' : [],\n",
    "    'E' : ['F'],\n",
    "    'F' : []\n",
    "}\n",
    "\n",
    "visited = []   # to keep track of visited nodes.\n",
    "queue = []     #Initialize a queue\n",
    "\n",
    "# ////////////////////DFS\n",
    " \n",
    "def dfs(visited, graph, node):\n",
    "    if node not in visited:\n",
    "        print (node)\n",
    "        print(\"as;la;l\")\n",
    "        visited.append(node)\n",
    "    for neighbour in graph[node]:\n",
    "        dfs(visited, graph, neighbour)\n",
    "            \n",
    "# ////////////////////Hybrid Search/////////////////// \n",
    "\n",
    "def hybrid_search(visited, graph, node, limit):\n",
    "    level = 0\n",
    "    visited.append(node)\n",
    "    queue.append(node)\n",
    "\n",
    "    # Do BFS for the first of the tree unitl the half of the given limit.\n",
    "    limit = 0.5 * limit\n",
    "    while queue and level < limit:\n",
    "        s = queue.pop(0)\n",
    "        level += 1\n",
    "        print(s, end=\" \")\n",
    "\n",
    "        for neighbour in graph[s]:\n",
    "            if neighbour not in visited:\n",
    "                visited.append(neighbour)\n",
    "                queue.append(neighbour)\n",
    "\n",
    "  # Perform DFS for the second half of the tree.\n",
    "    dfs(visited, graph, node)\n",
    "    \n",
    "    \n",
    "hybrid_search(visited ,graph ,'A' , 6)\n",
    "# hybrid_search(visited ,graph ,'A' , 3)\n",
    "\n",
    "\n"
   ]
  },
  {
   "cell_type": "markdown",
   "metadata": {},
   "source": [
    "## "
   ]
  },
  {
   "cell_type": "code",
   "execution_count": null,
   "metadata": {},
   "outputs": [],
   "source": []
  },
  {
   "cell_type": "code",
   "execution_count": null,
   "metadata": {},
   "outputs": [],
   "source": []
  },
  {
   "cell_type": "code",
   "execution_count": null,
   "metadata": {},
   "outputs": [],
   "source": [
    "\n",
    "\n"
   ]
  },
  {
   "cell_type": "code",
   "execution_count": null,
   "metadata": {},
   "outputs": [],
   "source": []
  }
 ],
 "metadata": {
  "kernelspec": {
   "display_name": "Python 3",
   "language": "python",
   "name": "python3"
  },
  "language_info": {
   "codemirror_mode": {
    "name": "ipython",
    "version": 3
   },
   "file_extension": ".py",
   "mimetype": "text/x-python",
   "name": "python",
   "nbconvert_exporter": "python",
   "pygments_lexer": "ipython3",
   "version": "3.8.5"
  }
 },
 "nbformat": 4,
 "nbformat_minor": 4
}
