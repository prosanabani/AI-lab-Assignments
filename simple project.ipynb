{
 "cells": [
  {
   "cell_type": "code",
   "execution_count": 5,
   "metadata": {},
   "outputs": [],
   "source": [
    "# 1.Assignment One(Simple Currency converter project converted to Python)\n"
   ]
  },
  {
   "cell_type": "code",
   "execution_count": 6,
   "metadata": {},
   "outputs": [
    {
     "name": "stdout",
     "output_type": "stream",
     "text": [
      "Welcome to Simple Currency Converter\n",
      "Supported currencies: USD, EUR, GBP, JPY, AUD\n",
      "Enter amount in USD: 513\n",
      "Select target currency:\n",
      "Press 1 for USD\n",
      "Press 2 for EUR\n",
      "Press 3 for GBP\n",
      "Press 4 for JPY\n",
      "Press 5 for AUD\n",
      "Enter your choice: 5\n",
      "513.00 USD is equivalent to 692.55 AUD\n"
     ]
    }
   ],
   "source": [
    "# Define conversion rates relative to USD\n",
    "conversion_rates = {\n",
    "    'USD': 1.0,\n",
    "    'EUR': 0.85,\n",
    "    'GBP': 0.73,\n",
    "    'JPY': 109.88,\n",
    "    'AUD': 1.35\n",
    "}\n",
    "\n",
    "def convert_currency(amount, from_currency, to_currency):\n",
    "    if from_currency not in conversion_rates or to_currency not in conversion_rates:\n",
    "        return \"Invalid currency\"\n",
    "\n",
    "    # Convert the amount from the base currency to the target currency\n",
    "    converted_amount = amount * (conversion_rates[to_currency] / conversion_rates[from_currency])\n",
    "    return converted_amount\n",
    "\n",
    "def main():\n",
    "    print(\"Welcome to Simple Currency Converter\")\n",
    "    print(\"Supported currencies:\", \", \".join(conversion_rates.keys()))\n",
    "\n",
    "    amount = float(input(\"Enter amount in USD: \"))\n",
    "    from_currency = 'USD'\n",
    "\n",
    "    print(\"Select target currency:\")\n",
    "    for index, currency in enumerate(conversion_rates.keys(), start=1):\n",
    "        print(f\"Press {index} for {currency}\")\n",
    "\n",
    "    target_choice = int(input(\"Enter your choice: \"))\n",
    "    target_currencies = list(conversion_rates.keys())\n",
    "    to_currency = target_currencies[target_choice - 1]\n",
    "\n",
    "    converted_amount = convert_currency(amount, from_currency, to_currency)\n",
    "    print(f\"{amount:.2f} {from_currency} is equivalent to {converted_amount:.2f} {to_currency}\")\n",
    "\n",
    "if __name__ == \"__main__\":\n",
    "    main()\n"
   ]
  },
  {
   "cell_type": "code",
   "execution_count": null,
   "metadata": {},
   "outputs": [],
   "source": []
  }
 ],
 "metadata": {
  "kernelspec": {
   "display_name": "Python 3",
   "language": "python",
   "name": "python3"
  },
  "language_info": {
   "codemirror_mode": {
    "name": "ipython",
    "version": 3
   },
   "file_extension": ".py",
   "mimetype": "text/x-python",
   "name": "python",
   "nbconvert_exporter": "python",
   "pygments_lexer": "ipython3",
   "version": "3.8.5"
  }
 },
 "nbformat": 4,
 "nbformat_minor": 4
}
